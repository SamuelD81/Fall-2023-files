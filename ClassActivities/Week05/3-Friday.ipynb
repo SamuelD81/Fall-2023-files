{
  "cells": [
    {
      "cell_type": "markdown",
      "metadata": {},
      "source": [
        "# Friday, September 22\n",
        "\n",
        "## Announcements and Reminders\n",
        "- Chapter 6 and 7 exercises due Monday\n",
        "- Quiz on loops: Monday\n",
        "- Programming Assigment 3: Wednesday\n",
        "- Exam 1: Monday, October 2\n",
        "\n",
        "### Questions:"
      ]
    },
    {
      "cell_type": "markdown",
      "metadata": {},
      "source": [
        "## Activity: Lots-o-Loops 2\n",
        "\n",
        "We will continue our investigation of loops in python today, picking up where we stopped last time.\n",
        "\n",
        "### Converting between `for` and `while`\n",
        "\n",
        "The function below adds up the first `n` odd numbers, using a while loop (do you see why?).  Implement another function that does the same thing with a while loop."
      ]
    },
    {
      "cell_type": "code",
      "execution_count": 5,
      "metadata": {},
      "outputs": [
        {
          "name": "stdout",
          "output_type": "stream",
          "text": [
            "49\n",
            "49\n"
          ]
        }
      ],
      "source": [
        "def sqr(n):\n",
        "  total = 0\n",
        "  next = 1\n",
        "  counter = 0\n",
        "  while counter < n:\n",
        "    total = total + next\n",
        "    next = next + 2\n",
        "    counter = counter + 1\n",
        "  return total\n",
        "\n",
        "print(sqr(7))\n",
        "\n",
        "# Reimplement the function above but this time use a for loop instead of a while loop.\n",
        "\n",
        "def resqr(n):\n",
        "  total = 0\n",
        "  next = 1\n",
        "  for counter in range(n):\n",
        "    total = total + next\n",
        "    next = next + 2\n",
        "  return total\n",
        "\n",
        "print(resqr(7))\n",
        "\n",
        "def resqr(n):\n",
        "  total = 0\n",
        "  for nex in range(1,2*n,2):\n",
        "    total = total + next\n",
        "  return total\n",
        "\n"
      ]
    },
    {
      "cell_type": "markdown",
      "metadata": {},
      "source": [
        "### Fibonacci numbers!\n",
        "\n",
        "Probably the most famous sequence in all of mathematics is the Fibonacci sequence: 1, 1, 2, 3, 5, 8, 13, 21,...\n",
        "\n",
        "How can we find the `n`th Fibonacci number?  1 is both the first and second Fibonacci number; the third number in the sequence is 2."
      ]
    },
    {
      "cell_type": "code",
      "execution_count": 12,
      "metadata": {},
      "outputs": [
        {
          "ename": "KeyboardInterrupt",
          "evalue": "",
          "output_type": "error",
          "traceback": [
            "\u001b[0;31m---------------------------------------------------------------------------\u001b[0m",
            "\u001b[0;31mKeyboardInterrupt\u001b[0m                         Traceback (most recent call last)",
            "\u001b[1;32m/workspaces/Fall-2023-files/ClassActivities/Week05/3-Friday.ipynb Cell 5\u001b[0m line \u001b[0;36m9\n\u001b[1;32m      <a href='vscode-notebook-cell://codespaces%2Bshiny-orbit-q7q69p45jqqg3gr9/workspaces/Fall-2023-files/ClassActivities/Week05/3-Friday.ipynb#W4sdnNjb2RlLXJlbW90ZQ%3D%3D?line=5'>6</a>\u001b[0m   \u001b[39melse\u001b[39;00m:\n\u001b[1;32m      <a href='vscode-notebook-cell://codespaces%2Bshiny-orbit-q7q69p45jqqg3gr9/workspaces/Fall-2023-files/ClassActivities/Week05/3-Friday.ipynb#W4sdnNjb2RlLXJlbW90ZQ%3D%3D?line=6'>7</a>\u001b[0m     \u001b[39mreturn\u001b[39;00m fib(n\u001b[39m-\u001b[39m\u001b[39m1\u001b[39m) \u001b[39m+\u001b[39m fib(n\u001b[39m-\u001b[39m\u001b[39m2\u001b[39m)\n\u001b[0;32m----> <a href='vscode-notebook-cell://codespaces%2Bshiny-orbit-q7q69p45jqqg3gr9/workspaces/Fall-2023-files/ClassActivities/Week05/3-Friday.ipynb#W4sdnNjb2RlLXJlbW90ZQ%3D%3D?line=8'>9</a>\u001b[0m \u001b[39mprint\u001b[39m(fib(\u001b[39m50\u001b[39;49m))\n\u001b[1;32m     <a href='vscode-notebook-cell://codespaces%2Bshiny-orbit-q7q69p45jqqg3gr9/workspaces/Fall-2023-files/ClassActivities/Week05/3-Friday.ipynb#W4sdnNjb2RlLXJlbW90ZQ%3D%3D?line=10'>11</a>\u001b[0m \u001b[39m# Implement the above function using either a for or while loop\u001b[39;00m\n\u001b[1;32m     <a href='vscode-notebook-cell://codespaces%2Bshiny-orbit-q7q69p45jqqg3gr9/workspaces/Fall-2023-files/ClassActivities/Week05/3-Friday.ipynb#W4sdnNjb2RlLXJlbW90ZQ%3D%3D?line=12'>13</a>\u001b[0m \u001b[39mdef\u001b[39;00m \u001b[39mrefib\u001b[39m(n):\n",
            "\u001b[1;32m/workspaces/Fall-2023-files/ClassActivities/Week05/3-Friday.ipynb Cell 5\u001b[0m line \u001b[0;36m7\n\u001b[1;32m      <a href='vscode-notebook-cell://codespaces%2Bshiny-orbit-q7q69p45jqqg3gr9/workspaces/Fall-2023-files/ClassActivities/Week05/3-Friday.ipynb#W4sdnNjb2RlLXJlbW90ZQ%3D%3D?line=4'>5</a>\u001b[0m   \u001b[39mreturn\u001b[39;00m \u001b[39m1\u001b[39m\n\u001b[1;32m      <a href='vscode-notebook-cell://codespaces%2Bshiny-orbit-q7q69p45jqqg3gr9/workspaces/Fall-2023-files/ClassActivities/Week05/3-Friday.ipynb#W4sdnNjb2RlLXJlbW90ZQ%3D%3D?line=5'>6</a>\u001b[0m \u001b[39melse\u001b[39;00m:\n\u001b[0;32m----> <a href='vscode-notebook-cell://codespaces%2Bshiny-orbit-q7q69p45jqqg3gr9/workspaces/Fall-2023-files/ClassActivities/Week05/3-Friday.ipynb#W4sdnNjb2RlLXJlbW90ZQ%3D%3D?line=6'>7</a>\u001b[0m   \u001b[39mreturn\u001b[39;00m fib(n\u001b[39m-\u001b[39;49m\u001b[39m1\u001b[39;49m) \u001b[39m+\u001b[39m fib(n\u001b[39m-\u001b[39m\u001b[39m2\u001b[39m)\n",
            "\u001b[1;32m/workspaces/Fall-2023-files/ClassActivities/Week05/3-Friday.ipynb Cell 5\u001b[0m line \u001b[0;36m7\n\u001b[1;32m      <a href='vscode-notebook-cell://codespaces%2Bshiny-orbit-q7q69p45jqqg3gr9/workspaces/Fall-2023-files/ClassActivities/Week05/3-Friday.ipynb#W4sdnNjb2RlLXJlbW90ZQ%3D%3D?line=4'>5</a>\u001b[0m   \u001b[39mreturn\u001b[39;00m \u001b[39m1\u001b[39m\n\u001b[1;32m      <a href='vscode-notebook-cell://codespaces%2Bshiny-orbit-q7q69p45jqqg3gr9/workspaces/Fall-2023-files/ClassActivities/Week05/3-Friday.ipynb#W4sdnNjb2RlLXJlbW90ZQ%3D%3D?line=5'>6</a>\u001b[0m \u001b[39melse\u001b[39;00m:\n\u001b[0;32m----> <a href='vscode-notebook-cell://codespaces%2Bshiny-orbit-q7q69p45jqqg3gr9/workspaces/Fall-2023-files/ClassActivities/Week05/3-Friday.ipynb#W4sdnNjb2RlLXJlbW90ZQ%3D%3D?line=6'>7</a>\u001b[0m   \u001b[39mreturn\u001b[39;00m fib(n\u001b[39m-\u001b[39;49m\u001b[39m1\u001b[39;49m) \u001b[39m+\u001b[39m fib(n\u001b[39m-\u001b[39m\u001b[39m2\u001b[39m)\n",
            "    \u001b[0;31m[... skipping similar frames: fib at line 7 (32 times)]\u001b[0m\n",
            "\u001b[1;32m/workspaces/Fall-2023-files/ClassActivities/Week05/3-Friday.ipynb Cell 5\u001b[0m line \u001b[0;36m7\n\u001b[1;32m      <a href='vscode-notebook-cell://codespaces%2Bshiny-orbit-q7q69p45jqqg3gr9/workspaces/Fall-2023-files/ClassActivities/Week05/3-Friday.ipynb#W4sdnNjb2RlLXJlbW90ZQ%3D%3D?line=4'>5</a>\u001b[0m   \u001b[39mreturn\u001b[39;00m \u001b[39m1\u001b[39m\n\u001b[1;32m      <a href='vscode-notebook-cell://codespaces%2Bshiny-orbit-q7q69p45jqqg3gr9/workspaces/Fall-2023-files/ClassActivities/Week05/3-Friday.ipynb#W4sdnNjb2RlLXJlbW90ZQ%3D%3D?line=5'>6</a>\u001b[0m \u001b[39melse\u001b[39;00m:\n\u001b[0;32m----> <a href='vscode-notebook-cell://codespaces%2Bshiny-orbit-q7q69p45jqqg3gr9/workspaces/Fall-2023-files/ClassActivities/Week05/3-Friday.ipynb#W4sdnNjb2RlLXJlbW90ZQ%3D%3D?line=6'>7</a>\u001b[0m   \u001b[39mreturn\u001b[39;00m fib(n\u001b[39m-\u001b[39m\u001b[39m1\u001b[39m) \u001b[39m+\u001b[39m fib(n\u001b[39m-\u001b[39;49m\u001b[39m2\u001b[39;49m)\n",
            "\u001b[1;32m/workspaces/Fall-2023-files/ClassActivities/Week05/3-Friday.ipynb Cell 5\u001b[0m line \u001b[0;36m1\n\u001b[0;32m----> <a href='vscode-notebook-cell://codespaces%2Bshiny-orbit-q7q69p45jqqg3gr9/workspaces/Fall-2023-files/ClassActivities/Week05/3-Friday.ipynb#W4sdnNjb2RlLXJlbW90ZQ%3D%3D?line=0'>1</a>\u001b[0m \u001b[39mdef\u001b[39;00m \u001b[39mfib\u001b[39m(n):\n\u001b[1;32m      <a href='vscode-notebook-cell://codespaces%2Bshiny-orbit-q7q69p45jqqg3gr9/workspaces/Fall-2023-files/ClassActivities/Week05/3-Friday.ipynb#W4sdnNjb2RlLXJlbW90ZQ%3D%3D?line=1'>2</a>\u001b[0m   \u001b[39mif\u001b[39;00m n \u001b[39m==\u001b[39m \u001b[39m0\u001b[39m:\n\u001b[1;32m      <a href='vscode-notebook-cell://codespaces%2Bshiny-orbit-q7q69p45jqqg3gr9/workspaces/Fall-2023-files/ClassActivities/Week05/3-Friday.ipynb#W4sdnNjb2RlLXJlbW90ZQ%3D%3D?line=2'>3</a>\u001b[0m     \u001b[39mreturn\u001b[39;00m \u001b[39m0\u001b[39m\n",
            "\u001b[0;31mKeyboardInterrupt\u001b[0m: "
          ]
        }
      ],
      "source": [
        "def fib(n):\n",
        "  if n == 0:\n",
        "    return 0\n",
        "  elif n == 1:\n",
        "    return 1\n",
        "  else:\n",
        "    return fib(n-1) + fib(n-2)\n",
        "  \n",
        "print(fib(7))\n",
        "\n",
        "# Implement the above function using either a for or while loop\n",
        "\n",
        "def refib(n):\n",
        "  a = 0\n",
        "  b = 1\n",
        "  c = 0\n",
        "  for i in range(n):\n",
        "    print(f\"start of loop a = {a}, b = {b}, c = {c}\")\n",
        "    c = a + b\n",
        "    a = b\n",
        "    b = c\n",
        "  return c\n",
        "\n",
        "print(refib(50))\n"
      ]
    },
    {
      "cell_type": "markdown",
      "metadata": {},
      "source": [
        "### Counting things\n",
        "\n",
        "A great use of loops is to count *how many* things there are.  For example, consider the following function:"
      ]
    },
    {
      "cell_type": "code",
      "execution_count": null,
      "metadata": {},
      "outputs": [],
      "source": [
        "def countup(thing):\n",
        "  count = 0\n",
        "  for i in thing:\n",
        "    count = count+1\n",
        "  return count\n",
        "\n",
        "print(countup(\"One, Two, Three\"))\n",
        "\n",
        "print(countup([\"One\", \"Two\", \"Three\"]))\n",
        "\n",
        "print(countup(range(5, 17, 2)))"
      ]
    },
    {
      "cell_type": "markdown",
      "metadata": {},
      "source": [
        "So here is a challenge: How many different dominoes can there be?  A domino contains two sides, and each side has a number between 0 and 6 on it.  The domino (3,5) is the same as the domino (5,3).  So how many dominoes are there?  \n",
        "\n",
        "Let's write a function that computes this.  While we are at it, why don't we let the function answer more questions: instead of going up to 6, let's go up to any number we want.  Maybe we even ask the function to print out the dominoes for us."
      ]
    },
    {
      "cell_type": "code",
      "execution_count": null,
      "metadata": {},
      "outputs": [],
      "source": [
        "def dominoCounter(n):\n",
        "  for x in range (n + 1):\n",
        "    for y in range (n+1):\n",
        "      print(f\"({x},{x})\")\n",
        "    \n",
        "dominoCounter(6)"
      ]
    },
    {
      "cell_type": "markdown",
      "metadata": {},
      "source": [
        "### Identifying Primes\n",
        "\n",
        "A number is **prime** provided it is a positive integer greater than 1 with exactly two divisors (i.e. factors): 1 and itself.  Integers greater than 1 which are not prime are called **composite**.  Your third programming assignment asks you to write some functions working with prime numbers.  For this, we need to decide whether a given number is prime to start with.\n",
        "\n",
        "Let's start by considering an example: is 2479 prime?"
      ]
    },
    {
      "cell_type": "code",
      "execution_count": null,
      "metadata": {},
      "outputs": [],
      "source": []
    }
  ],
  "metadata": {
    "colab": {
      "include_colab_link": true,
      "provenance": []
    },
    "kernelspec": {
      "display_name": "Python 3",
      "name": "python3"
    },
    "language_info": {
      "codemirror_mode": {
        "name": "ipython",
        "version": 3
      },
      "file_extension": ".py",
      "mimetype": "text/x-python",
      "name": "python",
      "nbconvert_exporter": "python",
      "pygments_lexer": "ipython3",
      "version": "3.10.8"
    }
  },
  "nbformat": 4,
  "nbformat_minor": 0
}
