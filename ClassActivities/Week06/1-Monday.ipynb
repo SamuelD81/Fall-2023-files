{
  "cells": [
    {
      "cell_type": "markdown",
      "metadata": {},
      "source": [
        "# Monday, September 25\n",
        "\n",
        "## Announcements and Reminders\n",
        "- Chapter 6 and 7 exercises due today\n",
        "- Programming Assignment 3: Wednesday\n",
        "- Exam 1: Monday, October 2\n",
        "\n",
        "### Questions:"
      ]
    },
    {
      "cell_type": "markdown",
      "metadata": {},
      "source": [
        "## Activity: Loops and conditionals, all mixed up\n",
        "\n",
        "Last time we saw that you can put loops inside of loops.  You can also put conditionals inside of loops.  Let's investigate!\n",
        "\n",
        "### Actually Counting Dominoes\n",
        "\n",
        "Recall we asked: How many different dominoes can there be?  A domino contains two sides, and each side has a number between 0 and 6 on it.  The domino (3,5) is the same as the domino (5,3).  So how many dominoes are there?  \n",
        "\n",
        "Let's write a function that computes this.  While we are at it, why don't we let the function answer more questions: instead of going up to 6, let's go up to any number we want.  Maybe we even ask the function to print out the dominoes for us.\n",
        "\n",
        "Below is the function we came up with in class last time:"
      ]
    },
    {
      "cell_type": "code",
      "execution_count": 2,
      "metadata": {},
      "outputs": [
        {
          "name": "stdout",
          "output_type": "stream",
          "text": [
            "(0,1)\n",
            "(0,2)\n",
            "(0,3)\n",
            "(0,4)\n",
            "(0,5)\n",
            "(0,6)\n",
            "(1,2)\n",
            "(1,3)\n",
            "(1,4)\n",
            "(1,5)\n",
            "(1,6)\n",
            "(2,3)\n",
            "(2,4)\n",
            "(2,5)\n",
            "(2,6)\n",
            "(3,4)\n",
            "(3,5)\n",
            "(3,6)\n",
            "(4,5)\n",
            "(4,6)\n",
            "(5,6)\n",
            "21\n"
          ]
        }
      ],
      "source": [
        "def dominoCounter(n):\n",
        "  count = 0\n",
        "  for x in range(n+1):\n",
        "    for y in range(x,n+1):\n",
        "      if x !=y:\n",
        "       print(f\"({x},{y})\")\n",
        "       count = count+1\n",
        "  return count\n",
        "\n",
        "print(dominoCounter(6))"
      ]
    },
    {
      "cell_type": "markdown",
      "metadata": {},
      "source": [
        "The problem is, we are counting some dominoes twice: (2,5) is the same domino as (5,2).  So what can we do to fix this?  Try to modify the code above."
      ]
    },
    {
      "cell_type": "markdown",
      "metadata": {},
      "source": [
        "### Another domino question\n",
        "\n",
        "Suppose we wanted to create an cell a game that contained over 1000 dominoes!  What number would be need to go up to on each domino?  It's not 6, since that only gives us 28 dominos.  Is it 7?  8?  Of course, we can use the function we wrote above to keep trying, but let's put python to work for us.  \n",
        "\n",
        "What sort of loop should we use?"
      ]
    },
    {
      "cell_type": "code",
      "execution_count": 1,
      "metadata": {},
      "outputs": [
        {
          "ename": "NameError",
          "evalue": "name 'dominoCounter' is not defined",
          "output_type": "error",
          "traceback": [
            "\u001b[0;31m---------------------------------------------------------------------------\u001b[0m",
            "\u001b[0;31mNameError\u001b[0m                                 Traceback (most recent call last)",
            "\u001b[1;32m/workspaces/Fall-2023-files/ClassActivities/Week06/1-Monday.ipynb Cell 6\u001b[0m line \u001b[0;36m8\n\u001b[1;32m      <a href='vscode-notebook-cell://codespaces%2Bhumble-guide-g4q657rvjxr93r6w/workspaces/Fall-2023-files/ClassActivities/Week06/1-Monday.ipynb#W5sdnNjb2RlLXJlbW90ZQ%3D%3D?line=3'>4</a>\u001b[0m     k\u001b[39m=\u001b[39mk\u001b[39m+\u001b[39m\u001b[39m1\u001b[39m\n\u001b[1;32m      <a href='vscode-notebook-cell://codespaces%2Bhumble-guide-g4q657rvjxr93r6w/workspaces/Fall-2023-files/ClassActivities/Week06/1-Monday.ipynb#W5sdnNjb2RlLXJlbW90ZQ%3D%3D?line=4'>5</a>\u001b[0m   \u001b[39mreturn\u001b[39;00m k\n\u001b[0;32m----> <a href='vscode-notebook-cell://codespaces%2Bhumble-guide-g4q657rvjxr93r6w/workspaces/Fall-2023-files/ClassActivities/Week06/1-Monday.ipynb#W5sdnNjb2RlLXJlbW90ZQ%3D%3D?line=7'>8</a>\u001b[0m \u001b[39mprint\u001b[39m(dotsForDominoes(\u001b[39m100000\u001b[39;49m))\n",
            "\u001b[1;32m/workspaces/Fall-2023-files/ClassActivities/Week06/1-Monday.ipynb Cell 6\u001b[0m line \u001b[0;36m3\n\u001b[1;32m      <a href='vscode-notebook-cell://codespaces%2Bhumble-guide-g4q657rvjxr93r6w/workspaces/Fall-2023-files/ClassActivities/Week06/1-Monday.ipynb#W5sdnNjb2RlLXJlbW90ZQ%3D%3D?line=0'>1</a>\u001b[0m \u001b[39mdef\u001b[39;00m \u001b[39mdotsForDominoes\u001b[39m(n):\n\u001b[1;32m      <a href='vscode-notebook-cell://codespaces%2Bhumble-guide-g4q657rvjxr93r6w/workspaces/Fall-2023-files/ClassActivities/Week06/1-Monday.ipynb#W5sdnNjb2RlLXJlbW90ZQ%3D%3D?line=1'>2</a>\u001b[0m   k\u001b[39m=\u001b[39m\u001b[39m1\u001b[39m\n\u001b[0;32m----> <a href='vscode-notebook-cell://codespaces%2Bhumble-guide-g4q657rvjxr93r6w/workspaces/Fall-2023-files/ClassActivities/Week06/1-Monday.ipynb#W5sdnNjb2RlLXJlbW90ZQ%3D%3D?line=2'>3</a>\u001b[0m   \u001b[39mwhile\u001b[39;00m dominoCounter(k) \u001b[39m<\u001b[39mn:\n\u001b[1;32m      <a href='vscode-notebook-cell://codespaces%2Bhumble-guide-g4q657rvjxr93r6w/workspaces/Fall-2023-files/ClassActivities/Week06/1-Monday.ipynb#W5sdnNjb2RlLXJlbW90ZQ%3D%3D?line=3'>4</a>\u001b[0m     k\u001b[39m=\u001b[39mk\u001b[39m+\u001b[39m\u001b[39m1\u001b[39m\n\u001b[1;32m      <a href='vscode-notebook-cell://codespaces%2Bhumble-guide-g4q657rvjxr93r6w/workspaces/Fall-2023-files/ClassActivities/Week06/1-Monday.ipynb#W5sdnNjb2RlLXJlbW90ZQ%3D%3D?line=4'>5</a>\u001b[0m   \u001b[39mreturn\u001b[39;00m k\n",
            "\u001b[0;31mNameError\u001b[0m: name 'dominoCounter' is not defined"
          ]
        }
      ],
      "source": [
        "def dotsForDominoes(n):\n",
        "  k=1\n",
        "  while dominoCounter(k) <n:\n",
        "    k=k+1\n",
        "  return k\n",
        "\n",
        "  \n",
        "print(dotsForDominoes(100000))"
      ]
    },
    {
      "cell_type": "markdown",
      "metadata": {},
      "source": [
        "### Identifying Primes\n",
        "\n",
        "A number is **prime** provided it is a positive integer greater than 1 with exactly two divisors (i.e. factors): 1 and itself.  Integers greater than 1 which are not prime are called **composite**.  Your third programming assignment asks you to write some functions working with prime numbers.  For this, we need to decide whether a given number is prime to start with.\n",
        "\n",
        "Let's start by considering an example: is 2479 prime?  What would *you* do to answer this, if you didn't have anything besides a basic calculator?  Start by using python just as a basic calculator to answer this question."
      ]
    },
    {
      "cell_type": "code",
      "execution_count": 2,
      "metadata": {},
      "outputs": [
        {
          "name": "stdout",
          "output_type": "stream",
          "text": [
            "1\n"
          ]
        }
      ],
      "source": [
        "print(2479 % 2)"
      ]
    },
    {
      "cell_type": "markdown",
      "metadata": {},
      "source": [
        "Now let's try to write a function that tells us whether a number is a multiple of 2, 3, or 5.  "
      ]
    },
    {
      "cell_type": "code",
      "execution_count": null,
      "metadata": {},
      "outputs": [],
      "source": [
        "def is235mult(n):\n",
        "  pass"
      ]
    }
  ],
  "metadata": {
    "colab": {
      "include_colab_link": true,
      "provenance": []
    },
    "kernelspec": {
      "display_name": "Python 3",
      "name": "python3"
    },
    "language_info": {
      "codemirror_mode": {
        "name": "ipython",
        "version": 3
      },
      "file_extension": ".py",
      "mimetype": "text/x-python",
      "name": "python",
      "nbconvert_exporter": "python",
      "pygments_lexer": "ipython3",
      "version": "3.10.8"
    }
  },
  "nbformat": 4,
  "nbformat_minor": 0
}
